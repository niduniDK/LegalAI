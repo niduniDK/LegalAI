{
 "cells": [
  {
   "cell_type": "markdown",
   "id": "d94ece0f",
   "metadata": {},
   "source": [
    "# Legal Documents PDF Download and Processing\n",
    "\n",
    "This notebook downloads PDF files of legal documents (acts and bills) from official sources and organizes them in a structured directory format for further processing.\n",
    "\n",
    "### Overview\n",
    "- Download legal documents metadata\n",
    "- Filter and analyze document types\n",
    "- Download PDF files from official sources\n",
    "- Organize downloaded files in structured directories\n",
    "- Handle download errors and missing files"
   ]
  },
  {
   "cell_type": "markdown",
   "id": "7f41d32c",
   "metadata": {},
   "source": [
    "## 1. Data Download and Setup\n",
    "\n",
    "Download the curated legal documents metadata file and configure the environment for PDF processing."
   ]
  },
  {
   "cell_type": "code",
   "execution_count": 1,
   "id": "982c01ff",
   "metadata": {
    "_cell_guid": "b1076dfc-b9ad-4769-8c92-a6c4dae69d19",
    "_uuid": "8f2839f25d086af736a60e9eeb907d3b93b6e0e5",
    "execution": {
     "iopub.execute_input": "2025-07-18T15:17:42.218010Z",
     "iopub.status.busy": "2025-07-18T15:17:42.217609Z",
     "iopub.status.idle": "2025-07-18T15:17:45.565271Z",
     "shell.execute_reply": "2025-07-18T15:17:45.564250Z"
    },
    "papermill": {
     "duration": 3.353853,
     "end_time": "2025-07-18T15:17:45.567020",
     "exception": false,
     "start_time": "2025-07-18T15:17:42.213167",
     "status": "completed"
    },
    "tags": []
   },
   "outputs": [
    {
     "name": "stdout",
     "output_type": "stream",
     "text": [
      "Downloading...\r\n",
      "From: https://drive.google.com/uc?id=1F_WDXotjwawHL2HO4FEAKungLN-rPGN6\r\n",
      "To: /kaggle/working/data.tsv\r\n",
      "100%|██████████████████████████████████████| 16.7M/16.7M [00:00<00:00, 62.8MB/s]\r\n"
     ]
    }
   ],
   "source": [
    "!gdown https://drive.google.com/uc?id=1F_WDXotjwawHL2HO4FEAKungLN-rPGN6 -O data.tsv"
   ]
  },
  {
   "cell_type": "markdown",
   "id": "df6398a9",
   "metadata": {},
   "source": [
    "## 2. Data Loading and Preprocessing\n",
    "\n",
    "Load the metadata, clean the data, and prepare it for PDF download operations."
   ]
  },
  {
   "cell_type": "code",
   "execution_count": 2,
   "id": "3bbe90a5",
   "metadata": {
    "execution": {
     "iopub.execute_input": "2025-07-18T15:17:45.574814Z",
     "iopub.status.busy": "2025-07-18T15:17:45.574479Z",
     "iopub.status.idle": "2025-07-18T15:17:47.395745Z",
     "shell.execute_reply": "2025-07-18T15:17:47.394791Z"
    },
    "papermill": {
     "duration": 1.82714,
     "end_time": "2025-07-18T15:17:47.397544",
     "exception": false,
     "start_time": "2025-07-18T15:17:45.570404",
     "status": "completed"
    },
    "tags": []
   },
   "outputs": [],
   "source": [
    "import pandas as pd\n",
    "pd.set_option('display.max_columns', None)\n",
    "pd.set_option('display.max_colwidth', None) \n",
    "\n",
    "import warnings\n",
    "warnings.filterwarnings('ignore') \n"
   ]
  },
  {
   "cell_type": "code",
   "execution_count": 3,
   "id": "8ccb6016",
   "metadata": {
    "execution": {
     "iopub.execute_input": "2025-07-18T15:17:47.405784Z",
     "iopub.status.busy": "2025-07-18T15:17:47.405270Z",
     "iopub.status.idle": "2025-07-18T15:17:47.949021Z",
     "shell.execute_reply": "2025-07-18T15:17:47.948174Z"
    },
    "papermill": {
     "duration": 0.549521,
     "end_time": "2025-07-18T15:17:47.950625",
     "exception": false,
     "start_time": "2025-07-18T15:17:47.401104",
     "status": "completed"
    },
    "tags": []
   },
   "outputs": [],
   "source": [
    "df = pd.read_csv('data.tsv', sep='\\t')\n",
    "df = df.applymap(lambda x: x.strip() if isinstance(x, str) else x)\n",
    "df['date'] = pd.to_datetime(df['date'], errors='coerce')\n",
    "\n",
    "# Sort by date descending\n",
    "df = df.sort_values(by='date', ascending=False)"
   ]
  },
  {
   "cell_type": "code",
   "execution_count": 4,
   "id": "5d8ff17f",
   "metadata": {
    "execution": {
     "iopub.execute_input": "2025-07-18T15:17:47.958148Z",
     "iopub.status.busy": "2025-07-18T15:17:47.957552Z",
     "iopub.status.idle": "2025-07-18T15:17:47.961495Z",
     "shell.execute_reply": "2025-07-18T15:17:47.960651Z"
    },
    "papermill": {
     "duration": 0.009144,
     "end_time": "2025-07-18T15:17:47.962909",
     "exception": false,
     "start_time": "2025-07-18T15:17:47.953765",
     "status": "completed"
    },
    "tags": []
   },
   "outputs": [],
   "source": [
    "# df"
   ]
  },
  {
   "cell_type": "markdown",
   "id": "56f9ddf7",
   "metadata": {},
   "source": [
    "## 3. Data Analysis\n",
    "\n",
    "Analyze the distribution of document types and identify documents available for download."
   ]
  },
  {
   "cell_type": "code",
   "execution_count": 5,
   "id": "521f1310",
   "metadata": {
    "execution": {
     "iopub.execute_input": "2025-07-18T15:17:47.970200Z",
     "iopub.status.busy": "2025-07-18T15:17:47.969426Z",
     "iopub.status.idle": "2025-07-18T15:17:47.982507Z",
     "shell.execute_reply": "2025-07-18T15:17:47.981685Z"
    },
    "papermill": {
     "duration": 0.017976,
     "end_time": "2025-07-18T15:17:47.983830",
     "exception": false,
     "start_time": "2025-07-18T15:17:47.965854",
     "status": "completed"
    },
    "tags": []
   },
   "outputs": [
    {
     "data": {
      "text/plain": [
       "doc_type_name\n",
       "extra-gazettes    34770\n",
       "gazettes           6275\n",
       "acts               1647\n",
       "bills              1351\n",
       "Name: count, dtype: int64"
      ]
     },
     "execution_count": 5,
     "metadata": {},
     "output_type": "execute_result"
    }
   ],
   "source": [
    "df['doc_type_name'].value_counts()"
   ]
  },
  {
   "cell_type": "code",
   "execution_count": 6,
   "id": "e48be943",
   "metadata": {
    "execution": {
     "iopub.execute_input": "2025-07-18T15:17:47.991461Z",
     "iopub.status.busy": "2025-07-18T15:17:47.990832Z",
     "iopub.status.idle": "2025-07-18T15:17:48.199367Z",
     "shell.execute_reply": "2025-07-18T15:17:48.198540Z"
    },
    "papermill": {
     "duration": 0.213914,
     "end_time": "2025-07-18T15:17:48.200951",
     "exception": false,
     "start_time": "2025-07-18T15:17:47.987037",
     "status": "completed"
    },
    "tags": []
   },
   "outputs": [],
   "source": [
    "import os\n",
    "import requests\n",
    "from urllib.parse import urlparse\n",
    "\n",
    "def raw_download(url):\n",
    "    try:\n",
    "        path = urlparse(url).path\n",
    "        relative_path = path.split('/view/')[-1]  # e.g., \"acts/2021/10/24-2021_E.pdf\"\n",
    "        parts = relative_path.strip('/').split('/')\n",
    "\n",
    "        folder_name = parts[0]  # e.g., 'acts'\n",
    "        filename = '-'.join(parts[1:])  # e.g., \"2021-10-24-2021_E.pdf\"\n",
    "\n",
    "        folder_path = os.path.join('pdf', folder_name)\n",
    "        os.makedirs(folder_path, exist_ok=True)\n",
    "\n",
    "        filepath = os.path.join(folder_path, filename)\n",
    "\n",
    "        # Skip if file already exists\n",
    "        if os.path.exists(filepath):\n",
    "            print(f\"[SKIPPED] Already exists: {filepath}\")\n",
    "            return\n",
    "\n",
    "        response = requests.get(url)\n",
    "        response.raise_for_status()\n",
    "\n",
    "        with open(filepath, 'wb') as f:\n",
    "            for chunk in response.iter_content(chunk_size=8192):\n",
    "                f.write(chunk)\n",
    "\n",
    "        print(f\"[DOWNLOADED] {filepath}\")\n",
    "\n",
    "    except Exception as e:\n",
    "        print(f\"[ERROR] Failed to download {url} — {type(e).__name__}: {e}\")\n"
   ]
  },
  {
   "cell_type": "markdown",
   "id": "b356fb50",
   "metadata": {},
   "source": [
    "## 4. PDF Download Implementation\n",
    "\n",
    "Implement PDF download functionality with proper file organization and error handling."
   ]
  },
  {
   "cell_type": "code",
   "execution_count": 7,
   "id": "f4c4f0a1",
   "metadata": {
    "execution": {
     "iopub.execute_input": "2025-07-18T15:17:48.208177Z",
     "iopub.status.busy": "2025-07-18T15:17:48.207781Z",
     "iopub.status.idle": "2025-07-18T15:17:48.214228Z",
     "shell.execute_reply": "2025-07-18T15:17:48.213532Z"
    },
    "papermill": {
     "duration": 0.011476,
     "end_time": "2025-07-18T15:17:48.215536",
     "exception": false,
     "start_time": "2025-07-18T15:17:48.204060",
     "status": "completed"
    },
    "tags": []
   },
   "outputs": [],
   "source": [
    "import time\n",
    "import pandas as pd\n",
    "\n",
    "def download_range(doc_type='acts', start=0, end=9):\n",
    "    # Filter and sort\n",
    "    filtered_df = df[\n",
    "        (df['doc_type_name'] == doc_type) &\n",
    "        (df['source_url_en'].notna()) &\n",
    "        (df['source_url_en'].str.strip() != '')\n",
    "    ].sort_values(by='date', ascending=False).reset_index(drop=True)\n",
    "\n",
    "    # Adjust slice range\n",
    "    sliced_df = filtered_df.iloc[start:end]\n",
    "\n",
    "    total_start = time.time()\n",
    "\n",
    "    for idx, url in enumerate(sliced_df['source_url_en'], start=start + 1):\n",
    "        start_time = time.time()\n",
    "        raw_download(url)\n",
    "        end_time = time.time()\n",
    "        print(f\"  [{idx}] Download time: {end_time - start_time:.2f} seconds\")\n",
    "\n",
    "    total_end = time.time()\n",
    "    print(f\"\\n✅ Total time for {len(sliced_df)} downloads: {total_end - total_start:.2f} seconds\")\n"
   ]
  },
  {
   "cell_type": "code",
   "execution_count": 8,
   "id": "b999058b",
   "metadata": {
    "execution": {
     "iopub.execute_input": "2025-07-18T15:17:48.222295Z",
     "iopub.status.busy": "2025-07-18T15:17:48.222007Z",
     "iopub.status.idle": "2025-07-18T18:28:29.156046Z",
     "shell.execute_reply": "2025-07-18T18:28:29.155003Z"
    },
    "papermill": {
     "duration": 11440.93907,
     "end_time": "2025-07-18T18:28:29.157601",
     "exception": false,
     "start_time": "2025-07-18T15:17:48.218531",
     "status": "completed"
    },
    "tags": []
   },
   "outputs": [
    {
     "name": "stdout",
     "output_type": "stream",
     "text": []
    }
   ],
   "source": [
    "download_range(doc_type='acts', start=0, end=99999)\n"
   ]
  },
  {
   "cell_type": "code",
   "execution_count": 9,
   "id": "2c6c8fce",
   "metadata": {
    "execution": {
     "iopub.execute_input": "2025-07-18T18:28:29.276737Z",
     "iopub.status.busy": "2025-07-18T18:28:29.276000Z",
     "iopub.status.idle": "2025-07-18T21:01:54.138343Z",
     "shell.execute_reply": "2025-07-18T21:01:54.137442Z"
    },
    "papermill": {
     "duration": 9204.922374,
     "end_time": "2025-07-18T21:01:54.139680",
     "exception": false,
     "start_time": "2025-07-18T18:28:29.217306",
     "status": "completed"
    },
    "tags": []
   },
   "outputs": [
    {
     "name": "stdout",
     "output_type": "stream",
     "text": []
    }
   ],
   "source": [
    "download_range(doc_type='bills', start=0, end=99999)\n"
   ]
  },
  {
   "cell_type": "code",
   "execution_count": 10,
   "id": "0db5d1f1",
   "metadata": {
    "execution": {
     "iopub.execute_input": "2025-07-18T21:01:54.381029Z",
     "iopub.status.busy": "2025-07-18T21:01:54.380377Z",
     "iopub.status.idle": "2025-07-18T21:01:54.528645Z",
     "shell.execute_reply": "2025-07-18T21:01:54.527676Z"
    },
    "papermill": {
     "duration": 0.271572,
     "end_time": "2025-07-18T21:01:54.530343",
     "exception": false,
     "start_time": "2025-07-18T21:01:54.258771",
     "status": "completed"
    },
    "tags": []
   },
   "outputs": [
    {
     "name": "stdout",
     "output_type": "stream",
     "text": [
      "626M\tpdf/acts/\r\n",
      "161M\tpdf/bills/\r\n"
     ]
    }
   ],
   "source": [
    "!du -sh pdf/*/"
   ]
  },
  {
   "cell_type": "code",
   "execution_count": 11,
   "id": "dc1e12c0",
   "metadata": {
    "execution": {
     "iopub.execute_input": "2025-07-18T21:01:54.772237Z",
     "iopub.status.busy": "2025-07-18T21:01:54.771521Z",
     "iopub.status.idle": "2025-07-18T21:02:32.738036Z",
     "shell.execute_reply": "2025-07-18T21:02:32.737199Z"
    },
    "papermill": {
     "duration": 38.090635,
     "end_time": "2025-07-18T21:02:32.739460",
     "exception": false,
     "start_time": "2025-07-18T21:01:54.648825",
     "status": "completed"
    },
    "tags": []
   },
   "outputs": [],
   "source": [
    "import zipfile\n",
    "import os\n",
    "\n",
    "def zip_folder(folder_path, output_zip):\n",
    "    with zipfile.ZipFile(output_zip, 'w', zipfile.ZIP_DEFLATED) as zipf:\n",
    "        for root, _, files in os.walk(folder_path):\n",
    "            for file in files:\n",
    "                full_path = os.path.join(root, file)\n",
    "                rel_path = os.path.relpath(full_path, folder_path)\n",
    "                zipf.write(full_path, arcname=rel_path)\n",
    "\n",
    "zip_folder('pdf', 'pdf.zip')"
   ]
  },
  {
   "cell_type": "code",
   "execution_count": null,
   "id": "170a30fc",
   "metadata": {
    "papermill": {
     "duration": 0.118761,
     "end_time": "2025-07-18T21:02:32.978651",
     "exception": false,
     "start_time": "2025-07-18T21:02:32.859890",
     "status": "completed"
    },
    "tags": []
   },
   "outputs": [],
   "source": []
  }
 ],
 "metadata": {
  "kaggle": {
   "accelerator": "none",
   "dataSources": [],
   "dockerImageVersionId": 31089,
   "isGpuEnabled": false,
   "isInternetEnabled": true,
   "language": "python",
   "sourceType": "notebook"
  },
  "kernelspec": {
   "display_name": "Python 3",
   "language": "python",
   "name": "python3"
  },
  "language_info": {
   "codemirror_mode": {
    "name": "ipython",
    "version": 3
   },
   "file_extension": ".py",
   "mimetype": "text/x-python",
   "name": "python",
   "nbconvert_exporter": "python",
   "pygments_lexer": "ipython3",
   "version": "3.13.2"
  },
  "papermill": {
   "default_parameters": {},
   "duration": 20696.180355,
   "end_time": "2025-07-18T21:02:33.736939",
   "environment_variables": {},
   "exception": null,
   "input_path": "__notebook__.ipynb",
   "output_path": "__notebook__.ipynb",
   "parameters": {},
   "start_time": "2025-07-18T15:17:37.556584",
   "version": "2.6.0"
  }
 },
 "nbformat": 4,
 "nbformat_minor": 5
}
