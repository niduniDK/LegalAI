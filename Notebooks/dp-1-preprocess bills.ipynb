{
 "cells": [
  {
   "cell_type": "markdown",
   "metadata": {},
   "source": [
    "# Bills Preprocessing Pipeline\n",
    "\n",
    "This notebook processes legislative bills by extracting text content from PDF files and preparing the data for embedding generation and indexing in the RAG system.\n",
    "\n",
    "### Overview\n",
    "- Load and filter bills metadata\n",
    "- Extract text content from PDF files using OCR\n",
    "- Clean and preprocess the extracted text\n",
    "- Save processed data in structured format\n",
    "- Handle different file formats and text extraction challenges"
   ]
  },
  {
   "cell_type": "code",
   "execution_count": null,
   "metadata": {
    "_cell_guid": "b1076dfc-b9ad-4769-8c92-a6c4dae69d19",
    "_uuid": "8f2839f25d086af736a60e9eeb907d3b93b6e0e5",
    "execution": {
     "iopub.execute_input": "2025-07-29T13:16:49.105287Z",
     "iopub.status.busy": "2025-07-29T13:16:49.105081Z",
     "iopub.status.idle": "2025-07-29T13:16:51.371184Z",
     "shell.execute_reply": "2025-07-29T13:16:51.370226Z",
     "shell.execute_reply.started": "2025-07-29T13:16:49.105268Z"
    },
    "trusted": true
   },
   "outputs": [],
   "source": [
    "import numpy as np\n",
    "import pandas as pd"
   ]
  },
  {
   "cell_type": "markdown",
   "metadata": {},
   "source": [
    "## 1. Data Download\n",
    "\n",
    "Download the preprocessed bills data and content files from Google Drive."
   ]
  },
  {
   "cell_type": "code",
   "execution_count": 2,
   "metadata": {
    "execution": {
     "iopub.execute_input": "2025-07-29T13:16:51.373070Z",
     "iopub.status.busy": "2025-07-29T13:16:51.372641Z",
     "iopub.status.idle": "2025-07-29T13:17:00.363478Z",
     "shell.execute_reply": "2025-07-29T13:17:00.362242Z",
     "shell.execute_reply.started": "2025-07-29T13:16:51.373044Z"
    },
    "trusted": true
   },
   "outputs": [
    {
     "name": "stdout",
     "output_type": "stream",
     "text": [
      "Downloading...\n",
      "From (original): https://drive.google.com/uc?id=1boSwHHySw3H6AttBX2iTxrNUnRfFgB_e\n",
      "From (redirected): https://drive.google.com/uc?id=1boSwHHySw3H6AttBX2iTxrNUnRfFgB_e&confirm=t&uuid=387b8bc6-1ac9-40ec-a96b-09c3a49101a7\n",
      "To: /kaggle/working/gazettes.tsv.gz\n",
      "100%|████████████████████████████████████████| 111M/111M [00:02<00:00, 42.8MB/s]\n",
      "Downloading...\n",
      "From: https://drive.google.com/uc?id=1--7L-BtJwrQB7yXcfPgV9_zQfn9nK-S5\n",
      "To: /kaggle/working/bills.tsv.gz\n",
      "100%|██████████████████████████████████████| 6.17M/6.17M [00:00<00:00, 6.79MB/s]\n"
     ]
    }
   ],
   "source": [
    "!gdown 1boSwHHySw3H6AttBX2iTxrNUnRfFgB_e\n",
    "!gdown 1--7L-BtJwrQB7yXcfPgV9_zQfn9nK-S5"
   ]
  },
  {
   "cell_type": "markdown",
   "metadata": {},
   "source": [
    "## 2. Data Loading and Inspection\n",
    "\n",
    "Load the bills dataset and examine the text content structure for preprocessing requirements."
   ]
  },
  {
   "cell_type": "code",
   "execution_count": 8,
   "metadata": {
    "execution": {
     "iopub.execute_input": "2025-07-29T13:21:52.381157Z",
     "iopub.status.busy": "2025-07-29T13:21:52.380802Z",
     "iopub.status.idle": "2025-07-29T13:21:52.924401Z",
     "shell.execute_reply": "2025-07-29T13:21:52.923575Z",
     "shell.execute_reply.started": "2025-07-29T13:21:52.381129Z"
    },
    "trusted": true
   },
   "outputs": [],
   "source": [
    "df = pd.read_csv(\"bills.tsv.gz\", sep=\"\\t\", compression=\"gzip\")\n"
   ]
  },
  {
   "cell_type": "code",
   "execution_count": 9,
   "metadata": {
    "execution": {
     "iopub.execute_input": "2025-07-29T13:21:55.246342Z",
     "iopub.status.busy": "2025-07-29T13:21:55.245541Z",
     "iopub.status.idle": "2025-07-29T13:21:55.252633Z",
     "shell.execute_reply": "2025-07-29T13:21:55.251812Z",
     "shell.execute_reply.started": "2025-07-29T13:21:55.246316Z"
    },
    "trusted": true
   },
   "outputs": [
    {
     "data": {
      "text/plain": [
       "\"THE GAZETTE OF THE DEMOCRATIC SOCIALIST REPUBLIC OF SRI LANKA Part II of May 07, 2010 SUPPLEMENT (Issued on 10. 05. 2010) PINA ORGANISATION (INCORPORATION) BILL to incorporate the Pina Organization To be presented in Parliament by Hon. Tissa Attanayake, M.P. for Kandy District PRINTED AT THE DEPARTMENT OF GOVERNMENT PRINTING, SRI LANKA TO BE PURCHASED AT THE GOVERNMENT PUBLICATIONS BUREAU, COLOMBO 5. Price : Rs. 6.00 Postage : Rs. 5.00 (Private Member's Bill)\\n\\nPina Organisation (Incorporation) 2 -PL 004825-80 (05/2010) Short title. Preamble. AN ACT TO INCORPORATE THE PINA ORGANISATION WHEREAS an Organisation called and known as the “Pina Organisation” has been established in Sri Lanka, for the purpose of effectually carrying out and transacting all objects and matters connected with the said Organisation according to the rules agreed to by its members: AND WHEREAS the said Organisation has heretofore successfully carried out and transacted several objects and matters for which it was established and has applied to be incorporated, and it will be for the public advantage to grant the application: BE it therefore enacted by the Parliament of the Democratic Socialist Republic of Sri Lanka as follows:- This Act may be cited as the Pina Organisation (Incorporation) Act, No. of 2010. From and after the date of commencement of this Act, such and so many person as now are members of the “Pina Organisation” (hereinafter referred to as the “Organisation”) or shall hereafter be admitted members of the Corporation hereby constituted, shall be a body corporate (hereinafter referred to as the “Corporation”) with perpetual succession under the name and style of the “Pina Organisation” and by that name may sue and be sued, in all courts with full power and authority to have and use a common seal and to alter the same at its pleasure. The general objects for which the Corporation is constituted are hereby declared to be- (a) to donate modern Hospital equipment and ambulances imported from Germany and elsewhere to the Government Hospitals, especially to Army Hospitals in the island; Incorporation of Pina Organisation. General objects of the Corporation.\\n\\nPina Organisation (Incorporation) (b) to encourage and assist students faced with economic or financial difficulties to pursue higher education and provide necessary infrastructural facilities; (c) to assist students who have lost one or more parent/ s in their education and provide appropriate lodging for them; (d) to provide relief to the poor and destitute who require heart surgery, transplantation of kidney and cancer surgery for such surgeries and to provide assistance for treatments; (e) to establish and maintain orphanages and homes for the aged and to establish social welfare centers; (f) to provide welfare facilities for the deaf, dumb and the blind and disabled persons and to establish welfare homes; (g) to provide wheelchairs, crutches and spectacles for the poor and destitute; (h) to assist low income families in the construction of new houses or complete existing ones; (i) to assist in the development of rural areas and primary sector activities by means of providing agricultural machinery such as Tractors, Hand- Tractors, land vehicles distributed through the respective provincial councils to the farmers; (j) to provide ambulances to Hospitals in less developed regions; (k) to provide government school children with transport facility in appropriate number by means of distributing busses;\\n\\nPina Organisation (Incorporation) (l) to print, publish and distribute books, journals, leaflets, newspapers and magazines which the Corporation may consider desirable for the promotion and advancement of its objects; (m) to promote the Corporation and its constitution through exhibitions, expert discussions, workshops, debates and tours planned and carried out by the Corporation; (n) to collaborate and work with other similar organizations with similar constitution as the Corporation; (o) to reduce and make non-existent suicide by means of community projects and education on the matter ; and (p) to do all such acts and things as are in the opinion of the Corporation connected to any of the above and beneficial to the growth of the Foundation. Subject to the provisions of this act and any other written law, the Corporation shall have the power to do, perform and execute all such acts, as necessary or desirable for the promotion or furtherance of the objects of the Corporation or any one of them, including the power to open, operate and close bank accounts, to borrow or raise money with or without security, to receive or collect grants and donations, to invest its funds and to engage, employ and dismiss officers and servants required for the carrying out of the objects of Corporation. (1) The Management, control and administration of the Corporation shall subject to the provisions of this act and rules in force for the time being of the Corporation, vest in a Governing Council (hereinafter referred to as “the Council”) consisting of such number of governors elected from among the members in accordance with the rules in force for the time being of the Corporation. General powers of the Corporation. Management of the affairs of the Corporation.\\n\\nPina Organisation (Incorporation) (2) The members of the Governing Council of the fund whose names are set out in the schedule to this Act, and holding office on the day preceding the date of commencement this Act, shall be the members of the first Council of the Corporation. (3) The council shall have the power to appoint new members. (1) It shall be lawful for the Corporation from time to time at its meeting by the votes of not less than two-thirds of the members present and voting, to make rules not inconsistent with the provisions of this Act or any other written law, for the management of the affairs of the said Corporation and accomplishment of its objects. Such rules when make may at like meeting and in like manner be altered, added to, amended or rescinded. (2) The rules of the said Corporation in force on the day preceding the date of commencement of this Act shall be deemed to be the rules of the Corporation made under this section in so far as they are not inconsistent with this Act or any other written law. All debts and liabilities of the said Corporation, on the day preceding the date of commencement of this Act shall be paid by the Corporation hereby constituted and all debts due to, subscription and contributions payable to foundation on the day shall be paid to the Corporation for the purpose of this Act. (1) The Corporation shall have its own fund and all moneys heretofore or hereafter to be received by way of testamentary disposition, donations, contribution and fees deposited in the names of the Corporation in one or more banks as may be decided by the Committee of Management. (2) There shall be paid out from the fund, all sums of moneys to defray any expenditure incurred by the Corporation in the exercise, performance and discharge of its powers, duties and functions under this Act. (1) The Corporation shall cause proper account to be kept of all moneys received and expended by the Corporation. Fund of the Corporation. Debts due by and payable to the foundation. Accounts and Audit. Rules of the Corporation.\\n\\nPina Organisation (Incorporation) (2) The Accounts of the Corporation shall be examined and audited at least once in every year and the correctness of income and expenditure account and the balance sheet certified by the Auditor or Auditors who shall be an associate member or members of the Institute of Chartered Accountants of Sri Lanka. 10. The seal of the Corporation shall not be affixed to any instrument whatsoever, except in the presence of such number of members of the Board of Management of the Corporation as may be provided in the rules who shall sign their names to the instrument in token of their presence and such signing shall be independent of the signing of any person as a witness. 11. The Corporation shall be able and capable in law to acquire and hold any property, movable, or immovable which may become vested in it by virtue of any purchase subscription, gift, grant, testamentary disposition or otherwise, and all such property shall be held by the Corporation for the purposes of this Act, and subject to the rules in force for the time being of the Corporation, with full power to sell, mortgage, lease, exchange, or otherwise dispose of the same. 12. If upon the dissolution of the Corporation there remains after the satisfaction of all its debts and liabilities, any property whatsoever, such property shall not be distributed among members of the Corporation, but shall be given or transferred to some other institution or institutions having objects similar to those of the Corporation and which is or are by rules prohibited from distributing any income or property among its members. 13. Nothing in this Act contained shall prejudice or affect the rights of the Republic or anybody corporate or any other persons except such as are mentioned in this Act and those claiming by, from, or under them. 14. In the event of any inconsistency between the Sinhala and Tamil texts of this Act, the Sinhala text shall prevail. Seal of the Corporation. Corporation may hold property movable or immovable. Saving of the rights of the Republic and others. Property remaining on dissolution. Sinhala text to prevail in case of inconsistency.\\n\\nPina Organisation (Incorporation) Annual subscription of English Bills and Acts of the Parliament Rs. 885 (Local), Rs. 1,180 (Foreign), Payable to the SUPERINTENDENT, GOVERNMENT PUBLICATIONS BUREAU, DEPARTMENT OF GOVERNMENT INFORMATION, NO. 163, KIRULAPONA MAWATHA, POLHENGODA, COLOMBO 05 before 15th December each year in respect of the year following.\""
      ]
     },
     "execution_count": 9,
     "metadata": {},
     "output_type": "execute_result"
    }
   ],
   "source": [
    "text = df['content'].iloc[5]\n",
    "text"
   ]
  },
  {
   "cell_type": "markdown",
   "metadata": {},
   "source": [
    "## 3. Text Preprocessing and Cleaning\n",
    "\n",
    "Implement text cleaning functions to process OCR-extracted content and prepare it for embedding generation."
   ]
  },
  {
   "cell_type": "code",
   "execution_count": 22,
   "metadata": {
    "execution": {
     "iopub.execute_input": "2025-07-29T13:32:09.384490Z",
     "iopub.status.busy": "2025-07-29T13:32:09.384198Z",
     "iopub.status.idle": "2025-07-29T13:32:09.396126Z",
     "shell.execute_reply": "2025-07-29T13:32:09.395127Z",
     "shell.execute_reply.started": "2025-07-29T13:32:09.384465Z"
    },
    "trusted": true
   },
   "outputs": [],
   "source": [
    "import re\n",
    "import unicodedata\n",
    "from typing import Optional\n",
    "\n",
    "def normalize_unicode(text: str) -> str:\n",
    "    \"\"\"Normalize unicode characters to their closest ASCII representation.\"\"\"\n",
    "    try:\n",
    "        return unicodedata.normalize('NFKC', text).encode('ASCII', 'ignore').decode('ASCII')\n",
    "    except Exception:\n",
    "        return text\n",
    "\n",
    "def normalize_whitespace(text: str) -> str:\n",
    "    \"\"\"Normalize whitespace, preserving essential structure.\"\"\"\n",
    "    try:\n",
    "        # Replace multiple spaces with a single space\n",
    "        text = re.sub(r'[ \\t]+', ' ', text)\n",
    "        # Normalize newlines (keep single newlines, remove excessive ones)\n",
    "        text = re.sub(r'\\n{2,}', '\\n', text)\n",
    "        return text.strip()\n",
    "    except re.error:\n",
    "        return text.strip()\n",
    "\n",
    "def clean_legal_metadata(text: str) -> str:\n",
    "    \"\"\"Remove repetitive headers and footers while preserving unique legal content and presenter details.\"\"\"\n",
    "    patterns = [\n",
    "        # Gazette headers\n",
    "        r'^THE GAZETTE OF THE DEMOCRATIC SOCIALIST REPUBLIC OF SRI LANKA\\s*Part\\s+[IVX]+\\s*of\\s+[A-Za-z]+\\s+\\d+,\\s+\\d+\\s*SUPPLEMENT\\s*$',\n",
    "        r'^\\(Issued\\s+on\\s+\\d+\\.\\s*\\d+\\.\\s*\\d+\\)\\s*$',\n",
    "        # Printing and purchase information\n",
    "        r'^PRINTED AT THE DEPARTMENT OF GOVERNMENT PRINTING.*?$',\n",
    "        r'^TO BE PURCHASED AT THE GOVERNMENT PUBLICATIONS BUREAU.*?$',\n",
    "        r'^Price\\s*:\\s*Rs\\.\\s*\\d+\\.\\d+\\s*Postage\\s*:\\s*Rs\\.\\s*\\d+\\.\\d+\\s*$',\n",
    "        # Bill identifiers\n",
    "        r'^\\d+\\s*-PL\\s+\\d+-\\d+\\s*\\(\\d+/\\d+\\)\\s*$',\n",
    "        # Subscription details\n",
    "        r'^Annual subscription of English Bills and Acts of the Parliament.*?$',\n",
    "        r'^Payable to the SUPERINTENDENT, GOVERNMENT PUBLICATIONS BUREAU.*?$',\n",
    "        # Other repetitive metadata\n",
    "        r'^N\\.B\\.- Part [A-Z0-9]+\\s*of the Gazette No\\.\\s*\\d+[,\\d]*\\s*of\\s*\\d{2}\\.\\d{2}\\.\\d{4}\\s*was not published\\.\\s*$',\n",
    "        r'^Published by Authority\\s*$',\n",
    "    ]\n",
    "    try:\n",
    "        for pattern in patterns:\n",
    "            text = re.sub(pattern, '', text, flags=re.MULTILINE | re.IGNORECASE)\n",
    "        # Remove empty lines after metadata cleaning\n",
    "        text = '\\n'.join(line for line in text.split('\\n') if line.strip())\n",
    "        return text\n",
    "    except re.error:\n",
    "        return text\n",
    "\n",
    "def remove_special_characters(text: str) -> str:\n",
    "    \"\"\"Remove special characters, preserving essential punctuation for legal text.\"\"\"\n",
    "    try:\n",
    "        # Preserve alphanumeric, spaces, and common legal punctuation (.,;:-/()&)\n",
    "        text = re.sub(r'[^\\w\\s.,;:\\-/()&]', '', text)\n",
    "        return text\n",
    "    except re.error:\n",
    "        return text\n",
    "\n",
    "def preprocess_legal_document(text: str) -> Optional[str]:\n",
    "    \"\"\"Main function to preprocess legal document text while preserving core content and unique details.\"\"\"\n",
    "    if not text or not text.strip():\n",
    "        return None\n",
    "\n",
    "    try:\n",
    "        # Step 1: Normalize unicode\n",
    "        text = normalize_unicode(text)\n",
    "\n",
    "        # Step 2: Clean specific metadata\n",
    "        text = clean_legal_metadata(text)\n",
    "\n",
    "        # Step 3: Remove special characters\n",
    "        text = remove_special_characters(text)\n",
    "\n",
    "        # Step 4: Normalize whitespace\n",
    "        text = normalize_whitespace(text)\n",
    "\n",
    "        return text.strip()\n",
    "    except Exception:\n",
    "        # Fallback to minimal cleaning\n",
    "        return normalize_whitespace(text)"
   ]
  },
  {
   "cell_type": "code",
   "execution_count": 23,
   "metadata": {
    "execution": {
     "iopub.execute_input": "2025-07-29T13:32:09.985336Z",
     "iopub.status.busy": "2025-07-29T13:32:09.984797Z",
     "iopub.status.idle": "2025-07-29T13:32:09.992867Z",
     "shell.execute_reply": "2025-07-29T13:32:09.991887Z",
     "shell.execute_reply.started": "2025-07-29T13:32:09.985303Z"
    },
    "trusted": true
   },
   "outputs": [
    {
     "name": "stdout",
     "output_type": "stream",
     "text": [
      "THE GAZETTE OF THE DEMOCRATIC SOCIALIST REPUBLIC OF SRI LANKA Part II of May 07, 2010 SUPPLEMENT (Issued on 10. 05. 2010) PINA ORGANISATION (INCORPORATION) BILL to incorporate the Pina Organization To be presented in Parliament by Hon. Tissa Attanayake, M.P. for Kandy District PRINTED AT THE DEPARTMENT OF GOVERNMENT PRINTING, SRI LANKA TO BE PURCHASED AT THE GOVERNMENT PUBLICATIONS BUREAU, COLOMBO 5. Price : Rs. 6.00 Postage : Rs. 5.00 (Private Members Bill)\n",
      "Pina Organisation (Incorporation) 2 -PL 004825-80 (05/2010) Short title. Preamble. AN ACT TO INCORPORATE THE PINA ORGANISATION WHEREAS an Organisation called and known as the Pina Organisation has been established in Sri Lanka, for the purpose of effectually carrying out and transacting all objects and matters connected with the said Organisation according to the rules agreed to by its members: AND WHEREAS the said Organisation has heretofore successfully carried out and transacted several objects and matters for which it was established and has applied to be incorporated, and it will be for the public advantage to grant the application: BE it therefore enacted by the Parliament of the Democratic Socialist Republic of Sri Lanka as follows:- This Act may be cited as the Pina Organisation (Incorporation) Act, No. of 2010. From and after the date of commencement of this Act, such and so many person as now are members of the Pina Organisation (hereinafter referred to as the Organisation) or shall hereafter be admitted members of the Corporation hereby constituted, shall be a body corporate (hereinafter referred to as the Corporation) with perpetual succession under the name and style of the Pina Organisation and by that name may sue and be sued, in all courts with full power and authority to have and use a common seal and to alter the same at its pleasure. The general objects for which the Corporation is constituted are hereby declared to be- (a) to donate modern Hospital equipment and ambulances imported from Germany and elsewhere to the Government Hospitals, especially to Army Hospitals in the island; Incorporation of Pina Organisation. General objects of the Corporation.\n",
      "Pina Organisation (Incorporation) (b) to encourage and assist students faced with economic or financial difficulties to pursue higher education and provide necessary infrastructural facilities; (c) to assist students who have lost one or more parent/ s in their education and provide appropriate lodging for them; (d) to provide relief to the poor and destitute who require heart surgery, transplantation of kidney and cancer surgery for such surgeries and to provide assistance for treatments; (e) to establish and maintain orphanages and homes for the aged and to establish social welfare centers; (f) to provide welfare facilities for the deaf, dumb and the blind and disabled persons and to establish welfare homes; (g) to provide wheelchairs, crutches and spectacles for the poor and destitute; (h) to assist low income families in the construction of new houses or complete existing ones; (i) to assist in the development of rural areas and primary sector activities by means of providing agricultural machinery such as Tractors, Hand- Tractors, land vehicles distributed through the respective provincial councils to the farmers; (j) to provide ambulances to Hospitals in less developed regions; (k) to provide government school children with transport facility in appropriate number by means of distributing busses;\n",
      "Pina Organisation (Incorporation) (l) to print, publish and distribute books, journals, leaflets, newspapers and magazines which the Corporation may consider desirable for the promotion and advancement of its objects; (m) to promote the Corporation and its constitution through exhibitions, expert discussions, workshops, debates and tours planned and carried out by the Corporation; (n) to collaborate and work with other similar organizations with similar constitution as the Corporation; (o) to reduce and make non-existent suicide by means of community projects and education on the matter ; and (p) to do all such acts and things as are in the opinion of the Corporation connected to any of the above and beneficial to the growth of the Foundation. Subject to the provisions of this act and any other written law, the Corporation shall have the power to do, perform and execute all such acts, as necessary or desirable for the promotion or furtherance of the objects of the Corporation or any one of them, including the power to open, operate and close bank accounts, to borrow or raise money with or without security, to receive or collect grants and donations, to invest its funds and to engage, employ and dismiss officers and servants required for the carrying out of the objects of Corporation. (1) The Management, control and administration of the Corporation shall subject to the provisions of this act and rules in force for the time being of the Corporation, vest in a Governing Council (hereinafter referred to as the Council) consisting of such number of governors elected from among the members in accordance with the rules in force for the time being of the Corporation. General powers of the Corporation. Management of the affairs of the Corporation.\n",
      "Pina Organisation (Incorporation) (2) The members of the Governing Council of the fund whose names are set out in the schedule to this Act, and holding office on the day preceding the date of commencement this Act, shall be the members of the first Council of the Corporation. (3) The council shall have the power to appoint new members. (1) It shall be lawful for the Corporation from time to time at its meeting by the votes of not less than two-thirds of the members present and voting, to make rules not inconsistent with the provisions of this Act or any other written law, for the management of the affairs of the said Corporation and accomplishment of its objects. Such rules when make may at like meeting and in like manner be altered, added to, amended or rescinded. (2) The rules of the said Corporation in force on the day preceding the date of commencement of this Act shall be deemed to be the rules of the Corporation made under this section in so far as they are not inconsistent with this Act or any other written law. All debts and liabilities of the said Corporation, on the day preceding the date of commencement of this Act shall be paid by the Corporation hereby constituted and all debts due to, subscription and contributions payable to foundation on the day shall be paid to the Corporation for the purpose of this Act. (1) The Corporation shall have its own fund and all moneys heretofore or hereafter to be received by way of testamentary disposition, donations, contribution and fees deposited in the names of the Corporation in one or more banks as may be decided by the Committee of Management. (2) There shall be paid out from the fund, all sums of moneys to defray any expenditure incurred by the Corporation in the exercise, performance and discharge of its powers, duties and functions under this Act. (1) The Corporation shall cause proper account to be kept of all moneys received and expended by the Corporation. Fund of the Corporation. Debts due by and payable to the foundation. Accounts and Audit. Rules of the Corporation.\n",
      "Pina Organisation (Incorporation) (2) The Accounts of the Corporation shall be examined and audited at least once in every year and the correctness of income and expenditure account and the balance sheet certified by the Auditor or Auditors who shall be an associate member or members of the Institute of Chartered Accountants of Sri Lanka. 10. The seal of the Corporation shall not be affixed to any instrument whatsoever, except in the presence of such number of members of the Board of Management of the Corporation as may be provided in the rules who shall sign their names to the instrument in token of their presence and such signing shall be independent of the signing of any person as a witness. 11. The Corporation shall be able and capable in law to acquire and hold any property, movable, or immovable which may become vested in it by virtue of any purchase subscription, gift, grant, testamentary disposition or otherwise, and all such property shall be held by the Corporation for the purposes of this Act, and subject to the rules in force for the time being of the Corporation, with full power to sell, mortgage, lease, exchange, or otherwise dispose of the same. 12. If upon the dissolution of the Corporation there remains after the satisfaction of all its debts and liabilities, any property whatsoever, such property shall not be distributed among members of the Corporation, but shall be given or transferred to some other institution or institutions having objects similar to those of the Corporation and which is or are by rules prohibited from distributing any income or property among its members. 13. Nothing in this Act contained shall prejudice or affect the rights of the Republic or anybody corporate or any other persons except such as are mentioned in this Act and those claiming by, from, or under them. 14. In the event of any inconsistency between the Sinhala and Tamil texts of this Act, the Sinhala text shall prevail. Seal of the Corporation. Corporation may hold property movable or immovable. Saving of the rights of the Republic and others. Property remaining on dissolution. Sinhala text to prevail in case of inconsistency.\n",
      "Pina Organisation (Incorporation) Annual subscription of English Bills and Acts of the Parliament Rs. 885 (Local), Rs. 1,180 (Foreign), Payable to the SUPERINTENDENT, GOVERNMENT PUBLICATIONS BUREAU, DEPARTMENT OF GOVERNMENT INFORMATION, NO. 163, KIRULAPONA MAWATHA, POLHENGODA, COLOMBO 05 before 15th December each year in respect of the year following.\n"
     ]
    }
   ],
   "source": [
    "cleaned_text = preprocess_legal_document(text)\n",
    "print(cleaned_text)"
   ]
  },
  {
   "cell_type": "code",
   "execution_count": 24,
   "metadata": {
    "execution": {
     "iopub.execute_input": "2025-07-29T13:32:35.564262Z",
     "iopub.status.busy": "2025-07-29T13:32:35.563339Z",
     "iopub.status.idle": "2025-07-29T13:32:40.444040Z",
     "shell.execute_reply": "2025-07-29T13:32:40.443075Z",
     "shell.execute_reply.started": "2025-07-29T13:32:35.564223Z"
    },
    "trusted": true
   },
   "outputs": [],
   "source": [
    "df['content'] = df['content'].apply(preprocess_legal_document)\n"
   ]
  },
  {
   "cell_type": "code",
   "execution_count": 25,
   "metadata": {
    "execution": {
     "iopub.execute_input": "2025-07-29T13:32:42.913583Z",
     "iopub.status.busy": "2025-07-29T13:32:42.912802Z",
     "iopub.status.idle": "2025-07-29T13:32:46.112905Z",
     "shell.execute_reply": "2025-07-29T13:32:46.112080Z",
     "shell.execute_reply.started": "2025-07-29T13:32:42.913556Z"
    },
    "trusted": true
   },
   "outputs": [],
   "source": [
    "df.to_csv('bills_clean.tsv.gz', sep='\\t', index=False, compression='gzip')\n"
   ]
  },
  {
   "cell_type": "code",
   "execution_count": null,
   "metadata": {
    "trusted": true
   },
   "outputs": [],
   "source": []
  }
 ],
 "metadata": {
  "kaggle": {
   "accelerator": "none",
   "dataSources": [],
   "dockerImageVersionId": 31089,
   "isGpuEnabled": false,
   "isInternetEnabled": true,
   "language": "python",
   "sourceType": "notebook"
  },
  "kernelspec": {
   "display_name": "Python 3",
   "language": "python",
   "name": "python3"
  },
  "language_info": {
   "codemirror_mode": {
    "name": "ipython",
    "version": 3
   },
   "file_extension": ".py",
   "mimetype": "text/x-python",
   "name": "python",
   "nbconvert_exporter": "python",
   "pygments_lexer": "ipython3",
   "version": "3.13.2"
  }
 },
 "nbformat": 4,
 "nbformat_minor": 4
}
